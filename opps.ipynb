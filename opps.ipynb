{
 "cells": [
  {
   "cell_type": "markdown",
   "metadata": {},
   "source": [
    "### CLASS in OOPS"
   ]
  },
  {
   "cell_type": "code",
   "execution_count": null,
   "metadata": {},
   "outputs": [],
   "source": [
    "### Modeling a Bank Account\n",
    "\n",
    "## Define a class for bank account\n",
    "class BankAccount:\n",
    "    # CONSTRUCTOR Function\n",
    "    def __init__(self, owner, balance=0):\n",
    "        # INSTANCE VARIABLES\n",
    "        self.owner = owner\n",
    "        self.balance = balance\n",
    "\n",
    "    #INSTANCE METHODS\n",
    "    def deposit(self, amount):\n",
    "        self.balance += amount\n",
    "        print(f'{amount} is credited to your account. Available Balance is {self.balance}')\n",
    "\n",
    "    def withdraw(self, amount):\n",
    "        if amount>self.balance:\n",
    "            print('You have insufficient balance')\n",
    "        else:\n",
    "            self.balance -= amount\n",
    "            print(f'{amount} is debited from your account. Available Balance is {self.balance}')\n",
    "\n",
    "    def get_balance(self):\n",
    "        return f'Available Balance is {self.balance}'\n",
    "\n"
   ]
  },
  {
   "cell_type": "code",
   "execution_count": 11,
   "metadata": {},
   "outputs": [
    {
     "name": "stdout",
     "output_type": "stream",
     "text": [
      "1000\n"
     ]
    }
   ],
   "source": [
    "nayan_account = BankAccount('Nayan', 1000)\n",
    "print(nayan_account.balance)"
   ]
  },
  {
   "cell_type": "code",
   "execution_count": 12,
   "metadata": {},
   "outputs": [
    {
     "name": "stdout",
     "output_type": "stream",
     "text": [
      "100 is credited to your account. Available Balance is 1100\n"
     ]
    }
   ],
   "source": [
    "## Call instance methods\n",
    "nayan_account.deposit(100)"
   ]
  },
  {
   "cell_type": "code",
   "execution_count": 13,
   "metadata": {},
   "outputs": [
    {
     "name": "stdout",
     "output_type": "stream",
     "text": [
      "50 is debited from your account. Available Balance is 1050\n"
     ]
    }
   ],
   "source": [
    "nayan_account.withdraw(50)"
   ]
  },
  {
   "cell_type": "code",
   "execution_count": 14,
   "metadata": {},
   "outputs": [
    {
     "data": {
      "text/plain": [
       "'Available Balance is 1050'"
      ]
     },
     "execution_count": 14,
     "metadata": {},
     "output_type": "execute_result"
    }
   ],
   "source": [
    "nayan_account.get_balance()"
   ]
  },
  {
   "cell_type": "markdown",
   "metadata": {},
   "source": [
    "### INHERITANCE"
   ]
  },
  {
   "cell_type": "markdown",
   "metadata": {},
   "source": [
    "SINGLE INHERITANCE -----> When a class inherits from one parent class."
   ]
  },
  {
   "cell_type": "code",
   "execution_count": null,
   "metadata": {},
   "outputs": [],
   "source": [
    "### PARENT Class\n",
    "class Car:\n",
    "    def __init__(self, windows, doors, enginetype) -> None:\n",
    "        self.windows = windows\n",
    "        self.doors = doors\n",
    "        self.enginetype = enginetype\n",
    "\n",
    "    def drive(self):\n",
    "        print(f'The person will drive the {self.enginetype} car.')"
   ]
  },
  {
   "cell_type": "code",
   "execution_count": 17,
   "metadata": {},
   "outputs": [
    {
     "name": "stdout",
     "output_type": "stream",
     "text": [
      "The person will drive the petrol car.\n"
     ]
    }
   ],
   "source": [
    "car1 = Car(4, 5, 'petrol')\n",
    "car1.drive()"
   ]
  },
  {
   "cell_type": "code",
   "execution_count": 18,
   "metadata": {},
   "outputs": [],
   "source": [
    "## Inheriting from Parent class\n",
    "class Tesla(Car):\n",
    "    def __init__(self, windows, doors, enginetype, is_selfdriving) -> None:\n",
    "        # super() is used for calling the init method from the Parent class (Car)\n",
    "        super().__init__(windows, doors, enginetype)\n",
    "        self.is_selfdriving = is_selfdriving\n",
    "\n",
    "    def selfdriving(self):\n",
    "        print(f'Tesla supports self driving: {self.is_selfdriving}')"
   ]
  },
  {
   "cell_type": "code",
   "execution_count": 19,
   "metadata": {},
   "outputs": [
    {
     "name": "stdout",
     "output_type": "stream",
     "text": [
      "Tesla supports self driving: True\n",
      "The person will drive the Petrol car.\n"
     ]
    }
   ],
   "source": [
    "tesla1 = Tesla(4, 5, 'Petrol', True)\n",
    "tesla1.selfdriving()\n",
    "tesla1.drive()"
   ]
  },
  {
   "cell_type": "markdown",
   "metadata": {},
   "source": [
    "MULTIPLE INHERITANCE ----> When a class inherits from more than one parent class."
   ]
  },
  {
   "cell_type": "code",
   "execution_count": 35,
   "metadata": {},
   "outputs": [],
   "source": [
    "### PARENT 1\n",
    "class Animal:\n",
    "    def __init__(self, name) -> None:\n",
    "        self.name = name\n",
    "\n",
    "    # def speak(self):\n",
    "    #     print(f'This should be derived')\n",
    "\n",
    "### PARENT 2\n",
    "class Pet:\n",
    "    def __init__(self, owner) -> None:\n",
    "        self.owner = owner"
   ]
  },
  {
   "cell_type": "code",
   "execution_count": 36,
   "metadata": {},
   "outputs": [],
   "source": [
    "### DERIVED CLASS\n",
    "class Dog(Animal, Pet):\n",
    "    def __init__(self, name, owner) -> None:\n",
    "        Animal.__init__(self, name)\n",
    "        Pet.__init__(self, owner)\n",
    "    def speak(self):\n",
    "        return f'{self.name} says BHOW BHOW'"
   ]
  },
  {
   "cell_type": "code",
   "execution_count": 37,
   "metadata": {},
   "outputs": [
    {
     "name": "stdout",
     "output_type": "stream",
     "text": [
      "Mougli says BHOW BHOW\n"
     ]
    },
    {
     "data": {
      "text/plain": [
       "'Nayan'"
      ]
     },
     "execution_count": 37,
     "metadata": {},
     "output_type": "execute_result"
    }
   ],
   "source": [
    "dog = Dog('Mougli', 'Nayan')\n",
    "print(dog.speak())\n",
    "dog.owner"
   ]
  },
  {
   "cell_type": "markdown",
   "metadata": {},
   "source": [
    "### OOPS QUESTION 1"
   ]
  },
  {
   "cell_type": "code",
   "execution_count": 48,
   "metadata": {},
   "outputs": [
    {
     "name": "stdout",
     "output_type": "stream",
     "text": [
      "Jane Smith, Your Available Balance is 2000\n",
      "John Doe, Your Available Balance is 1000\n",
      "Jane Smith, your account is credited with Rs. 100. Available Balance is 2100.\n",
      "John Doe, your account is credited with Rs. 100. Available Balance is 1100.\n",
      "Jane Smith, Your Available Balance is 2050\n",
      "Jane Smith, your account is debited with Rs. 50. Available Balance is 2000.\n",
      "John Doe, your account is credited with Rs. 50. Available Balance is 1150.\n"
     ]
    }
   ],
   "source": [
    "class BankAccount:\n",
    "    def __init__(self, account_holder, initial_balance):\n",
    "        self.account_holder = account_holder\n",
    "        self.initial_balance = initial_balance\n",
    "        \n",
    "    def assert_balance(self):\n",
    "        print(f'{self.account_holder}, Your Available Balance is {self.initial_balance}')\n",
    "        return self.initial_balance\n",
    "        \n",
    "    def deposit(self, amount):\n",
    "        self.initial_balance += amount\n",
    "        return f'{self.account_holder}, your account is credited with Rs. {amount}. Available Balance is {self.initial_balance}.'\n",
    "        \n",
    "    def withdraw(self, amount):\n",
    "        if (amount>0) and (amount<=self.initial_balance):\n",
    "            self.initial_balance -= amount\n",
    "            return f'{self.account_holder}, your account is debited with Rs. {amount}. Available Balance is {self.initial_balance}.'\n",
    "        else:\n",
    "            return 'Insufficient Funds.'\n",
    "    \n",
    "    def transfer(self, account_holder, amount):\n",
    "        balance = self.assert_balance() \n",
    "        if (balance>=amount) and (amount>0):\n",
    "            print(self.withdraw(amount))\n",
    "            print(account_holder.deposit(amount))\n",
    "        \n",
    "acc1 = BankAccount(\"John Doe\", 1000)\n",
    "acc2 = BankAccount(\"Jane Smith\", 2000)\n",
    "\n",
    "acc2.assert_balance()\n",
    "acc1.assert_balance()\n",
    "print(acc2.deposit(100))\n",
    "print(acc1.deposit(100))\n",
    "acc2.withdraw(50)\n",
    "acc2.transfer(acc1, 50)"
   ]
  },
  {
   "cell_type": "markdown",
   "metadata": {},
   "source": [
    "## OOPS Question 2"
   ]
  },
  {
   "cell_type": "code",
   "execution_count": 50,
   "metadata": {},
   "outputs": [
    {
     "name": "stdout",
     "output_type": "stream",
     "text": [
      "Addition Result: 15\n",
      "Subtraction Result: 5\n",
      "Multiplication Result: 30\n",
      "Division Result: 5.0\n",
      "Division Result: Cannot divide by zero\n"
     ]
    }
   ],
   "source": [
    "class Calculator:\n",
    "    def __init__(self, num1, num2):\n",
    "        # Initialize the attributes num1 and num2\n",
    "        self.num1 = num1\n",
    "        self.num2 = num2\n",
    "\n",
    "    def add(self):\n",
    "        # Return the sum of num1 and num2\n",
    "        return self.num1 + self.num2\n",
    "\n",
    "    def subtract(self):\n",
    "        # Return the result of subtracting num2 from num1\n",
    "        if self.num1>=self.num2:\n",
    "            greater = self.num1\n",
    "            smaller = self.num2\n",
    "        else:\n",
    "            greater = self.num2\n",
    "            smaller = self.num1\n",
    "        return greater-smaller\n",
    "\n",
    "    def multiply(self, factor):\n",
    "        # Return the product of num1 and factor\n",
    "        return self.num1 * factor\n",
    "\n",
    "    def divide(self, divisor):\n",
    "        # Return the result of dividing num1 by divisor\n",
    "        try:\n",
    "            return self.num1/divisor\n",
    "        # If divisor is zero, print an error message and return None\n",
    "        except:\n",
    "            return 'Cannot divide by zero'\n",
    "\n",
    "\n",
    "calculator = Calculator(10, 5)\n",
    "\n",
    "# Testing the add method\n",
    "print(\"Addition Result:\", calculator.add())  # Output: 15\n",
    " \n",
    "# Testing the subtract method\n",
    "print(\"Subtraction Result:\", calculator.subtract())  # Output: 5\n",
    " \n",
    "# Testing the multiply method\n",
    "print(\"Multiplication Result:\", calculator.multiply(3))  # Output: 30\n",
    " \n",
    "# Testing the divide method\n",
    "print(\"Division Result:\", calculator.divide(2))  # Output: 5.0\n",
    "print(\"Division Result:\", calculator.divide(0))  # Output: Error: Cannot divide by zero"
   ]
  },
  {
   "cell_type": "code",
   "execution_count": null,
   "metadata": {},
   "outputs": [],
   "source": []
  }
 ],
 "metadata": {
  "kernelspec": {
   "display_name": "mldl_env",
   "language": "python",
   "name": "python3"
  },
  "language_info": {
   "codemirror_mode": {
    "name": "ipython",
    "version": 3
   },
   "file_extension": ".py",
   "mimetype": "text/x-python",
   "name": "python",
   "nbconvert_exporter": "python",
   "pygments_lexer": "ipython3",
   "version": "3.12.0"
  }
 },
 "nbformat": 4,
 "nbformat_minor": 2
}
